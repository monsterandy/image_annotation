{
 "metadata": {
  "language_info": {
   "codemirror_mode": {
    "name": "ipython",
    "version": 3
   },
   "file_extension": ".py",
   "mimetype": "text/x-python",
   "name": "python",
   "nbconvert_exporter": "python",
   "pygments_lexer": "ipython3",
   "version": "3.9.2"
  },
  "orig_nbformat": 4,
  "kernelspec": {
   "name": "python3",
   "display_name": "Python 3.9.2 64-bit ('tweets': conda)"
  },
  "interpreter": {
   "hash": "cd1f5da85199302314bd73b2bb6f21c64cad1b4f001173fa3ddb4057b62cb3fe"
  }
 },
 "nbformat": 4,
 "nbformat_minor": 2,
 "cells": [
  {
   "cell_type": "code",
   "execution_count": 1,
   "metadata": {},
   "outputs": [],
   "source": [
    "import pandas as pd\n"
   ]
  },
  {
   "cell_type": "code",
   "execution_count": 2,
   "metadata": {},
   "outputs": [],
   "source": [
    "csv_path = './sample_data_google.csv'\n",
    "df_csv = pd.read_csv(csv_path, index_col=0)"
   ]
  },
  {
   "cell_type": "code",
   "execution_count": 3,
   "metadata": {},
   "outputs": [
    {
     "output_type": "execute_result",
     "data": {
      "text/plain": [
       "                           hashtag             tweet_id  \\\n",
       "topic                                                     \n",
       "Mask                       NoMasks  1290561571312328706   \n",
       "Immigration                cdnpoli  1297693936782213123   \n",
       "Vaccine                  CovidHoax  1294984802890911746   \n",
       "Political                     maga  1297377429405614081   \n",
       "Boomer       trumpliesamericansdie  1298382512016818176   \n",
       "...                            ...                  ...   \n",
       "Immigration                cdnpoli  1296093364832542721   \n",
       "Vaccine               covidvaccine  1293000884293472512   \n",
       "Mask                        maskup  1294016456942915584   \n",
       "Boomer       trumpliesamericansdie  1297141476028305408   \n",
       "Boomer                       karen  1293437438610702336   \n",
       "\n",
       "                                                    image_path  \\\n",
       "topic                                                            \n",
       "Mask           ./data_Mask/NoMasks/tweets1/Eej-523WsAAJa6h.jpg   \n",
       "Immigration  ./data_Immigration/cdnpoli/tweets4/EgJVvpkUMAA...   \n",
       "Vaccine      ./data_Vaccine/CovidHoax/tweets3/Efi1z_iXsAICX...   \n",
       "Political    ./data_Political/maga/tweets4/EgE11wjUcAA4FsE.jpg   \n",
       "Boomer       ./data_Boomer/trumpliesamericansdie/tweets4/Eg...   \n",
       "...                                                        ...   \n",
       "Immigration  ./data_Immigration/cdnpoli/tweets3/Efyl_4DU8AA...   \n",
       "Vaccine      ./data_Vaccine/covidvaccine/tweets2/EfGpYSEUYA...   \n",
       "Mask            ./data_Mask/maskup/tweets2/EfU9tFBXgAAhqkh.jpg   \n",
       "Boomer       ./data_Boomer/trumpliesamericansdie/tweets4/Eg...   \n",
       "Boomer         ./data_Boomer/karen/tweets2/EfM2dCEUYAEAJae.jpg   \n",
       "\n",
       "                                                   sample_path  label  \\\n",
       "topic                                                                   \n",
       "Mask                ./annotation_data/Mask/Eej-523WsAAJa6h.jpg    NaN   \n",
       "Immigration  ./annotation_data/Immigration/EgJVvpkUMAALB8Z.png    NaN   \n",
       "Vaccine          ./annotation_data/Vaccine/Efi1z_iXsAICXnH.jpg    NaN   \n",
       "Political      ./annotation_data/Political/EgE11wjUcAA4FsE.jpg    NaN   \n",
       "Boomer            ./annotation_data/Boomer/EgTIA2cWAAAKPS1.jpg    NaN   \n",
       "...                                                        ...    ...   \n",
       "Immigration  ./annotation_data/Immigration/Efyl_4DU8AAYvNG.jpg    NaN   \n",
       "Vaccine          ./annotation_data/Vaccine/EfGpYSEUYAER7Q3.jpg    NaN   \n",
       "Mask                ./annotation_data/Mask/EfU9tFBXgAAhqkh.jpg    NaN   \n",
       "Boomer            ./annotation_data/Boomer/EgBfS1BX0AEL69-.jpg    NaN   \n",
       "Boomer            ./annotation_data/Boomer/EfM2dCEUYAEAJae.jpg    NaN   \n",
       "\n",
       "                                                     body_text  \\\n",
       "topic                                                            \n",
       "Mask         @RupertaMargate @FrancaisFarage @John35542712 ...   \n",
       "Immigration  You beat me to it, lol .. #cpc #cpcldr #cdnpol...   \n",
       "Vaccine      States are stock piling food in empty arenas, ...   \n",
       "Political    .@realDonaldTrump #MAGA She’s known you ALL yo...   \n",
       "Boomer       On Nov.3 Vote for Joe Biden and all Democrats ...   \n",
       "...                                                        ...   \n",
       "Immigration  Today on the Canadian History Ehx podcast, I l...   \n",
       "Vaccine      President Duterte in a late-night address on M...   \n",
       "Mask         #MaskUp! When at a NRHN facility, all must be ...   \n",
       "Boomer       @DonaldJTrumpJr I think you mean WHEN Democrat...   \n",
       "Boomer       #binod #karen #civilwar #end game https://t.co...   \n",
       "\n",
       "                                                    image_text  \\\n",
       "topic                                                            \n",
       "Mask                                            FALLONTONIGHT    \n",
       "Immigration   You couldnt organize a two car funeral proces...   \n",
       "Vaccine       Operation Mockingbird Public Perception Manag...   \n",
       "Political     reobhan YOU CANT TRUST HIM SECRET AUDIO OF TR...   \n",
       "Boomer                                   No Trump Youre Fired    \n",
       "...                                                        ...   \n",
       "Immigration   CANADIAN HISTORY EHX PRSENTS CANADA YEARBYYEA...   \n",
       "Vaccine       66 Maligayangmaligaya ako Ang Russia kaibigan...   \n",
       "Mask          ALL CIN ARE WE THIS IRE NRH Northeast Rehabil...   \n",
       "Boomer         Fake news Im the President Believe me SHOWTIME    \n",
       "Boomer        karen I need to speak to your manger Binod I ...   \n",
       "\n",
       "                                                 text_with_OCR  \n",
       "topic                                                           \n",
       "Mask                                                    Ser ah  \n",
       "Immigration         You organize two car funeral procession iS  \n",
       "Vaccine                            Public in Project Fake News  \n",
       "Political         Em TRUST HIM SECRET AUDIO OF OF ae rig aA Se  \n",
       "Boomer                                  No Trump re Fired Spec  \n",
       "...                                                        ...  \n",
       "Immigration                                      tou Os sa baa  \n",
       "Vaccine      ako Russia mo ko kay President sa Someday na s...  \n",
       "Mask         AN at Tad Wit es St es Northeast Rehabilitatio...  \n",
       "Boomer                       an Li Fake news the Bel mi Seamer  \n",
       "Boomer                                                  you Se  \n",
       "\n",
       "[100 rows x 8 columns]"
      ],
      "text/html": "<div>\n<style scoped>\n    .dataframe tbody tr th:only-of-type {\n        vertical-align: middle;\n    }\n\n    .dataframe tbody tr th {\n        vertical-align: top;\n    }\n\n    .dataframe thead th {\n        text-align: right;\n    }\n</style>\n<table border=\"1\" class=\"dataframe\">\n  <thead>\n    <tr style=\"text-align: right;\">\n      <th></th>\n      <th>hashtag</th>\n      <th>tweet_id</th>\n      <th>image_path</th>\n      <th>sample_path</th>\n      <th>label</th>\n      <th>body_text</th>\n      <th>image_text</th>\n      <th>text_with_OCR</th>\n    </tr>\n    <tr>\n      <th>topic</th>\n      <th></th>\n      <th></th>\n      <th></th>\n      <th></th>\n      <th></th>\n      <th></th>\n      <th></th>\n      <th></th>\n    </tr>\n  </thead>\n  <tbody>\n    <tr>\n      <th>Mask</th>\n      <td>NoMasks</td>\n      <td>1290561571312328706</td>\n      <td>./data_Mask/NoMasks/tweets1/Eej-523WsAAJa6h.jpg</td>\n      <td>./annotation_data/Mask/Eej-523WsAAJa6h.jpg</td>\n      <td>NaN</td>\n      <td>@RupertaMargate @FrancaisFarage @John35542712 ...</td>\n      <td>FALLONTONIGHT</td>\n      <td>Ser ah</td>\n    </tr>\n    <tr>\n      <th>Immigration</th>\n      <td>cdnpoli</td>\n      <td>1297693936782213123</td>\n      <td>./data_Immigration/cdnpoli/tweets4/EgJVvpkUMAA...</td>\n      <td>./annotation_data/Immigration/EgJVvpkUMAALB8Z.png</td>\n      <td>NaN</td>\n      <td>You beat me to it, lol .. #cpc #cpcldr #cdnpol...</td>\n      <td>You couldnt organize a two car funeral proces...</td>\n      <td>You organize two car funeral procession iS</td>\n    </tr>\n    <tr>\n      <th>Vaccine</th>\n      <td>CovidHoax</td>\n      <td>1294984802890911746</td>\n      <td>./data_Vaccine/CovidHoax/tweets3/Efi1z_iXsAICX...</td>\n      <td>./annotation_data/Vaccine/Efi1z_iXsAICXnH.jpg</td>\n      <td>NaN</td>\n      <td>States are stock piling food in empty arenas, ...</td>\n      <td>Operation Mockingbird Public Perception Manag...</td>\n      <td>Public in Project Fake News</td>\n    </tr>\n    <tr>\n      <th>Political</th>\n      <td>maga</td>\n      <td>1297377429405614081</td>\n      <td>./data_Political/maga/tweets4/EgE11wjUcAA4FsE.jpg</td>\n      <td>./annotation_data/Political/EgE11wjUcAA4FsE.jpg</td>\n      <td>NaN</td>\n      <td>.@realDonaldTrump #MAGA She’s known you ALL yo...</td>\n      <td>reobhan YOU CANT TRUST HIM SECRET AUDIO OF TR...</td>\n      <td>Em TRUST HIM SECRET AUDIO OF OF ae rig aA Se</td>\n    </tr>\n    <tr>\n      <th>Boomer</th>\n      <td>trumpliesamericansdie</td>\n      <td>1298382512016818176</td>\n      <td>./data_Boomer/trumpliesamericansdie/tweets4/Eg...</td>\n      <td>./annotation_data/Boomer/EgTIA2cWAAAKPS1.jpg</td>\n      <td>NaN</td>\n      <td>On Nov.3 Vote for Joe Biden and all Democrats ...</td>\n      <td>No Trump Youre Fired</td>\n      <td>No Trump re Fired Spec</td>\n    </tr>\n    <tr>\n      <th>...</th>\n      <td>...</td>\n      <td>...</td>\n      <td>...</td>\n      <td>...</td>\n      <td>...</td>\n      <td>...</td>\n      <td>...</td>\n      <td>...</td>\n    </tr>\n    <tr>\n      <th>Immigration</th>\n      <td>cdnpoli</td>\n      <td>1296093364832542721</td>\n      <td>./data_Immigration/cdnpoli/tweets3/Efyl_4DU8AA...</td>\n      <td>./annotation_data/Immigration/Efyl_4DU8AAYvNG.jpg</td>\n      <td>NaN</td>\n      <td>Today on the Canadian History Ehx podcast, I l...</td>\n      <td>CANADIAN HISTORY EHX PRSENTS CANADA YEARBYYEA...</td>\n      <td>tou Os sa baa</td>\n    </tr>\n    <tr>\n      <th>Vaccine</th>\n      <td>covidvaccine</td>\n      <td>1293000884293472512</td>\n      <td>./data_Vaccine/covidvaccine/tweets2/EfGpYSEUYA...</td>\n      <td>./annotation_data/Vaccine/EfGpYSEUYAER7Q3.jpg</td>\n      <td>NaN</td>\n      <td>President Duterte in a late-night address on M...</td>\n      <td>66 Maligayangmaligaya ako Ang Russia kaibigan...</td>\n      <td>ako Russia mo ko kay President sa Someday na s...</td>\n    </tr>\n    <tr>\n      <th>Mask</th>\n      <td>maskup</td>\n      <td>1294016456942915584</td>\n      <td>./data_Mask/maskup/tweets2/EfU9tFBXgAAhqkh.jpg</td>\n      <td>./annotation_data/Mask/EfU9tFBXgAAhqkh.jpg</td>\n      <td>NaN</td>\n      <td>#MaskUp! When at a NRHN facility, all must be ...</td>\n      <td>ALL CIN ARE WE THIS IRE NRH Northeast Rehabil...</td>\n      <td>AN at Tad Wit es St es Northeast Rehabilitatio...</td>\n    </tr>\n    <tr>\n      <th>Boomer</th>\n      <td>trumpliesamericansdie</td>\n      <td>1297141476028305408</td>\n      <td>./data_Boomer/trumpliesamericansdie/tweets4/Eg...</td>\n      <td>./annotation_data/Boomer/EgBfS1BX0AEL69-.jpg</td>\n      <td>NaN</td>\n      <td>@DonaldJTrumpJr I think you mean WHEN Democrat...</td>\n      <td>Fake news Im the President Believe me SHOWTIME</td>\n      <td>an Li Fake news the Bel mi Seamer</td>\n    </tr>\n    <tr>\n      <th>Boomer</th>\n      <td>karen</td>\n      <td>1293437438610702336</td>\n      <td>./data_Boomer/karen/tweets2/EfM2dCEUYAEAJae.jpg</td>\n      <td>./annotation_data/Boomer/EfM2dCEUYAEAJae.jpg</td>\n      <td>NaN</td>\n      <td>#binod #karen #civilwar #end game https://t.co...</td>\n      <td>karen I need to speak to your manger Binod I ...</td>\n      <td>you Se</td>\n    </tr>\n  </tbody>\n</table>\n<p>100 rows × 8 columns</p>\n</div>"
     },
     "metadata": {},
     "execution_count": 3
    }
   ],
   "source": [
    "# df_csv['label'].values[:200] == 2\n",
    "df_csv_new = df_csv[:200][(df_csv['label'].values[:200] != 2)]\n",
    "df_csv_new = df_csv_new[:100]\n",
    "df_csv_new"
   ]
  },
  {
   "cell_type": "code",
   "execution_count": 5,
   "metadata": {},
   "outputs": [],
   "source": [
    "result_path = './csv_data/sample_100_NAME.csv'\n",
    "df_csv_new.to_csv(result_path)"
   ]
  },
  {
   "cell_type": "code",
   "execution_count": null,
   "metadata": {},
   "outputs": [],
   "source": []
  }
 ]
}