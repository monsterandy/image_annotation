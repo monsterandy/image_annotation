{
 "metadata": {
  "language_info": {
   "codemirror_mode": {
    "name": "ipython",
    "version": 3
   },
   "file_extension": ".py",
   "mimetype": "text/x-python",
   "name": "python",
   "nbconvert_exporter": "python",
   "pygments_lexer": "ipython3",
   "version": "3.9.2"
  },
  "orig_nbformat": 4,
  "kernelspec": {
   "name": "python3",
   "display_name": "Python 3.9.2 64-bit ('tweets': conda)"
  },
  "interpreter": {
   "hash": "cd1f5da85199302314bd73b2bb6f21c64cad1b4f001173fa3ddb4057b62cb3fe"
  }
 },
 "nbformat": 4,
 "nbformat_minor": 2,
 "cells": [
  {
   "cell_type": "code",
   "execution_count": 1,
   "source": [
    "import pandas as pd\n",
    "import numpy as np\n",
    "pd.options.mode.chained_assignment = None  # default='warn'"
   ],
   "outputs": [],
   "metadata": {}
  },
  {
   "cell_type": "code",
   "execution_count": 2,
   "source": [
    "csv_path = 'csv_2000_no_politics/sample_data_no_politics.csv'\n",
    "df_csv = pd.read_csv(csv_path)"
   ],
   "outputs": [],
   "metadata": {}
  },
  {
   "cell_type": "code",
   "execution_count": 3,
   "source": [
    "data_path = './annot_2000_no_politics'\n",
    "def set_sample_path(img_path):\n",
    "    image_name = img_path.split('/')[-1]\n",
    "    dst_path = os.path.join(data_path, image_name)\n",
    "    return dst_path"
   ],
   "outputs": [],
   "metadata": {}
  },
  {
   "cell_type": "code",
   "execution_count": 4,
   "source": [
    "df_csv['sample_path'] = df_csv['sample_path'].apply(set_sample_path)"
   ],
   "outputs": [],
   "metadata": {}
  },
  {
   "cell_type": "code",
   "execution_count": 3,
   "source": [
    "df_a = df_csv[:650]\n",
    "df_a['label'] = np.nan\n",
    "df_n = df_csv[650:1300]\n",
    "df_n['label'] = np.nan\n",
    "df_z = df_csv[1300:]\n",
    "df_z['label'] = np.nan\n",
    "# df_csv_new['image_text'] = df_csv_new['text_with_OCR']\n",
    "# df_csv_new.insert(loc=6, column='label', value=np.nan)\n"
   ],
   "outputs": [],
   "metadata": {}
  },
  {
   "cell_type": "code",
   "execution_count": 6,
   "source": [
    "result_path = 'csv_2000_no_politics/sample_650_Anoosha.csv'\n",
    "df_a.to_csv(result_path, index=False)\n",
    "result_path = 'csv_2000_no_politics/sample_650_Nishant.csv'\n",
    "df_n.to_csv(result_path, index=False)\n",
    "result_path = 'csv_2000_no_politics/sample_700_Zheyuan.csv'\n",
    "df_z.to_csv(result_path, index=False)"
   ],
   "outputs": [],
   "metadata": {}
  },
  {
   "cell_type": "code",
   "execution_count": null,
   "source": [
    "csv_path = 'csv_data_hate/sample_100_Zheyuan.csv'\n",
    "df_csv = pd.read_csv(csv_path)\n",
    "diff_path = 'csv_data_hate/sample_100_diff.csv'\n",
    "df_diff = pd.read_csv(diff_path, index_col=0)"
   ],
   "outputs": [],
   "metadata": {}
  },
  {
   "cell_type": "code",
   "execution_count": null,
   "source": [
    "pd.merge(df_csv, df_diff, on='tweet_id', how='outer')"
   ],
   "outputs": [],
   "metadata": {}
  },
  {
   "cell_type": "code",
   "execution_count": 8,
   "source": [
    "df1 = pd.DataFrame({'a': ['foo', 'bar'], 'b': [1, 2]})\n",
    "df2 = pd.DataFrame({'a': ['foo', 'baz'], 'b': [np.nan, 4]})"
   ],
   "outputs": [],
   "metadata": {}
  },
  {
   "cell_type": "code",
   "execution_count": 9,
   "source": [
    "df1.merge(df2, how='left', on='a')"
   ],
   "outputs": [
    {
     "output_type": "execute_result",
     "data": {
      "text/plain": [
       "     a  b_x  b_y\n",
       "0  foo    1  NaN\n",
       "1  bar    2  NaN"
      ],
      "text/html": [
       "<div>\n",
       "<style scoped>\n",
       "    .dataframe tbody tr th:only-of-type {\n",
       "        vertical-align: middle;\n",
       "    }\n",
       "\n",
       "    .dataframe tbody tr th {\n",
       "        vertical-align: top;\n",
       "    }\n",
       "\n",
       "    .dataframe thead th {\n",
       "        text-align: right;\n",
       "    }\n",
       "</style>\n",
       "<table border=\"1\" class=\"dataframe\">\n",
       "  <thead>\n",
       "    <tr style=\"text-align: right;\">\n",
       "      <th></th>\n",
       "      <th>a</th>\n",
       "      <th>b_x</th>\n",
       "      <th>b_y</th>\n",
       "    </tr>\n",
       "  </thead>\n",
       "  <tbody>\n",
       "    <tr>\n",
       "      <th>0</th>\n",
       "      <td>foo</td>\n",
       "      <td>1</td>\n",
       "      <td>NaN</td>\n",
       "    </tr>\n",
       "    <tr>\n",
       "      <th>1</th>\n",
       "      <td>bar</td>\n",
       "      <td>2</td>\n",
       "      <td>NaN</td>\n",
       "    </tr>\n",
       "  </tbody>\n",
       "</table>\n",
       "</div>"
      ]
     },
     "metadata": {},
     "execution_count": 9
    }
   ],
   "metadata": {}
  },
  {
   "cell_type": "markdown",
   "source": [
    "## Put results together"
   ],
   "metadata": {}
  },
  {
   "cell_type": "code",
   "execution_count": 1,
   "source": [
    "import pandas as pd"
   ],
   "outputs": [],
   "metadata": {}
  },
  {
   "cell_type": "code",
   "execution_count": null,
   "source": [
    "csv_path = './csv_data_hate/sample_100_Zheyuan.csv'\n",
    "df_csv = pd.read_csv(csv_path, index_col=False)\n",
    "df_csv.drop(columns=['label'], inplace=True)\n",
    "df_csv.drop(df_csv.columns[0], inplace=True, axis=1)\n",
    "df_csv"
   ],
   "outputs": [],
   "metadata": {}
  },
  {
   "cell_type": "code",
   "execution_count": null,
   "source": [
    "df_a = pd.read_csv('./csv_data_hate/sample_100_Anoosha.csv')\n",
    "df_a.drop(df_a.columns[0], inplace=True, axis=1)\n",
    "df_n = pd.read_csv('./csv_data_hate/sample_100_Nishant.csv')\n",
    "df_n.drop(df_n.columns[0], inplace=True, axis=1)\n",
    "df_z = pd.read_csv('./csv_data_hate/sample_100_Zheyuan.csv')\n",
    "df_z.drop(df_z.columns[0], inplace=True, axis=1)\n",
    "df_csv['lb_anoosha'] = df_a['label'].astype(int)\n",
    "df_csv['lb_nishant'] = df_n['label'].astype(int)\n",
    "df_csv['lb_zheyuan'] = df_z['label'].astype(int)\n",
    "df_csv"
   ],
   "outputs": [],
   "metadata": {}
  },
  {
   "cell_type": "code",
   "execution_count": 4,
   "source": [
    "def is_same_value(df):\n",
    "    if df['lb_anoosha'] == df['lb_nishant'] == df['lb_zheyuan']:\n",
    "        return 1\n",
    "    else: return 0"
   ],
   "outputs": [],
   "metadata": {}
  },
  {
   "cell_type": "code",
   "execution_count": 5,
   "source": [
    "df_csv['is_same'] = df_csv.iloc[:,-3:].apply(is_same_value, axis=1)"
   ],
   "outputs": [],
   "metadata": {}
  },
  {
   "cell_type": "code",
   "execution_count": 6,
   "source": [
    "diff_path = 'csv_data_hate/sample_100_diff.csv'\n",
    "df_diff = pd.read_csv(diff_path)\n",
    "df_diff.drop(df_diff.columns[0], inplace=True, axis=1)"
   ],
   "outputs": [],
   "metadata": {}
  },
  {
   "cell_type": "code",
   "execution_count": 6,
   "source": [
    "import numpy as np\n",
    "df_diff = df_csv[df_csv.is_same.eq(0)]\n",
    "df_diff.insert(loc=7, column='label', value=np.nan)"
   ],
   "outputs": [],
   "metadata": {}
  },
  {
   "cell_type": "code",
   "execution_count": 7,
   "source": [
    "result_path = './csv_data_hate/sample_100_diff.csv'\n",
    "df_diff.to_csv(result_path)"
   ],
   "outputs": [],
   "metadata": {}
  },
  {
   "cell_type": "markdown",
   "source": [
    "### Append results"
   ],
   "metadata": {}
  },
  {
   "cell_type": "code",
   "execution_count": 1,
   "source": [
    "import pandas as pd"
   ],
   "outputs": [],
   "metadata": {}
  },
  {
   "cell_type": "code",
   "execution_count": 12,
   "source": [
    "csv_path = 'csv_2000_no_politics/sample_650_Anoosha.csv'\n",
    "df_csv = pd.read_csv(csv_path, index_col=False)"
   ],
   "outputs": [],
   "metadata": {}
  },
  {
   "cell_type": "code",
   "execution_count": 13,
   "source": [
    "csv_path = 'csv_2000_no_politics/sample_650_Nishant.csv'\n",
    "df_csv_temp = pd.read_csv(csv_path)\n",
    "df_csv = df_csv.append(df_csv_temp, ignore_index=True)"
   ],
   "outputs": [],
   "metadata": {}
  },
  {
   "cell_type": "code",
   "execution_count": 14,
   "source": [
    "csv_path = 'csv_2000_no_politics/sample_700_Zheyuan.csv'\n",
    "df_csv_temp = pd.read_csv(csv_path)\n",
    "df_csv = df_csv.append(df_csv_temp, ignore_index=True)"
   ],
   "outputs": [],
   "metadata": {}
  },
  {
   "cell_type": "code",
   "execution_count": 15,
   "source": [
    "df_csv = df_csv.reset_index()\n",
    "df_csv.insert(loc=1, column='id', value=df_csv.index)\n",
    "df_csv.drop(df_csv.columns[0], inplace=True, axis=1)"
   ],
   "outputs": [],
   "metadata": {}
  },
  {
   "cell_type": "code",
   "execution_count": 16,
   "source": [
    "# merge the Google OCR results\n",
    "csv_path = 'csv_2000_no_politics/sample_google_no_politics.csv'\n",
    "df_google = pd.read_csv(csv_path, index_col=False)\n",
    "df_google['image_text'] = df_google['image_text'].astype(str)\n",
    "df_google['image_text'] = df_google['image_text'].apply(lambda x: x.replace('\\n', ' '))\n",
    "df_csv['image_text'] = df_google['image_text']"
   ],
   "outputs": [],
   "metadata": {}
  },
  {
   "cell_type": "code",
   "execution_count": 17,
   "source": [
    "csv_path = 'csv_2000_no_politics/sample_2000_labeled.csv'\n",
    "df_csv.to_csv(csv_path, index=0)"
   ],
   "outputs": [],
   "metadata": {}
  },
  {
   "cell_type": "code",
   "execution_count": 39,
   "source": [
    "csv_path = 'csv_3000_hate/sample_3000_labeled.csv'\n",
    "df_csv = pd.read_csv(csv_path, index_col=False)\n",
    "\n",
    "csv_path = 'csv_2000_no_politics/sample_2000_labeled.csv'\n",
    "df_csv_temp = pd.read_csv(csv_path, index_col=False)\n",
    "\n",
    "df_csv = df_csv.append(df_csv_temp, ignore_index=True)\n",
    "\n",
    "df_csv['image_text'] = df_csv['image_text'].fillna('')"
   ],
   "outputs": [],
   "metadata": {}
  },
  {
   "cell_type": "markdown",
   "source": [
    "## Copy image"
   ],
   "metadata": {}
  },
  {
   "cell_type": "code",
   "execution_count": 40,
   "source": [
    "import os\n",
    "from pathlib import Path\n",
    "from shutil import copyfile\n",
    "data_path = 'data/img'\n",
    "Path(data_path).mkdir(parents=True, exist_ok=True)"
   ],
   "outputs": [],
   "metadata": {}
  },
  {
   "cell_type": "code",
   "execution_count": 7,
   "source": [
    "def copy_image_set_path(img_path):\n",
    "    image_name = img_path.split('/')[-1]\n",
    "    dst_path = os.path.join(data_path, image_name)\n",
    "    copyfile(img_path, dst_path)\n",
    "    return dst_path"
   ],
   "outputs": [],
   "metadata": {}
  },
  {
   "cell_type": "code",
   "execution_count": 41,
   "source": [
    "def copy_image_set_id_path(df_csv):\n",
    "    img_full_name = df_csv['sample_path'].split('/')[-1]\n",
    "    img_ext = img_full_name.split('.')[-1]\n",
    "    img_name = str(df_csv['id']) + '.' + img_ext\n",
    "    dst_path = os.path.join(data_path, img_name)\n",
    "    copyfile(df_csv['sample_path'], dst_path)\n",
    "    img_path = os.path.join(data_path.split('/')[-1], img_name)\n",
    "    return img_path"
   ],
   "outputs": [],
   "metadata": {}
  },
  {
   "cell_type": "code",
   "execution_count": 42,
   "source": [
    "new_df = pd.DataFrame(columns=['id', 'img', 'label', 'text'])\n",
    "new_df['id'] = df_csv['id']\n",
    "new_df['img'] = df_csv.apply(copy_image_set_id_path, axis=1)\n",
    "new_df['label'] = df_csv['label'].astype(int)\n",
    "new_df['text'] = df_csv['image_text']"
   ],
   "outputs": [],
   "metadata": {}
  },
  {
   "cell_type": "code",
   "execution_count": 43,
   "source": [
    "new_df = new_df.sample(frac=1, random_state=42).reset_index(drop=True)\n",
    "df_train = new_df[:4000]\n",
    "df_val = new_df[4000:]\n",
    "df_val_seen = df_val[:500]\n",
    "df_val_unseen = df_val[500:]"
   ],
   "outputs": [],
   "metadata": {}
  },
  {
   "cell_type": "code",
   "execution_count": 44,
   "source": [
    "train_path = 'data/train.jsonl'\n",
    "df_train.to_json(train_path, orient='records', lines=True)\n",
    "val_path = 'data/dev_seen.jsonl'\n",
    "df_val_seen.to_json(val_path, orient='records', lines=True)\n",
    "val_path = 'data/dev_unseen.jsonl'\n",
    "df_val_unseen.to_json(val_path, orient='records', lines=True)\n"
   ],
   "outputs": [],
   "metadata": {}
  },
  {
   "cell_type": "code",
   "execution_count": null,
   "source": [],
   "outputs": [],
   "metadata": {}
  }
 ]
}